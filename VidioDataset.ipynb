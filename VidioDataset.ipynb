{
  "cells": [
    {
      "cell_type": "code",
      "execution_count": null,
      "metadata": {
        "colab": {
          "base_uri": "https://localhost:8080/",
          "height": 90
        },
        "id": "fzp9_q8C3xz7",
        "outputId": "59021dd5-1285-482f-c167-85d170c3094c"
      },
      "outputs": [
        {
          "output_type": "display_data",
          "data": {
            "text/plain": [
              "<IPython.core.display.HTML object>"
            ],
            "text/html": [
              "\n",
              "     <input type=\"file\" id=\"files-338ad779-37f8-4338-9447-f73a7bac33d7\" name=\"files[]\" multiple disabled\n",
              "        style=\"border:none\" />\n",
              "     <output id=\"result-338ad779-37f8-4338-9447-f73a7bac33d7\">\n",
              "      Upload widget is only available when the cell has been executed in the\n",
              "      current browser session. Please rerun this cell to enable.\n",
              "      </output>\n",
              "      <script>// Copyright 2017 Google LLC\n",
              "//\n",
              "// Licensed under the Apache License, Version 2.0 (the \"License\");\n",
              "// you may not use this file except in compliance with the License.\n",
              "// You may obtain a copy of the License at\n",
              "//\n",
              "//      http://www.apache.org/licenses/LICENSE-2.0\n",
              "//\n",
              "// Unless required by applicable law or agreed to in writing, software\n",
              "// distributed under the License is distributed on an \"AS IS\" BASIS,\n",
              "// WITHOUT WARRANTIES OR CONDITIONS OF ANY KIND, either express or implied.\n",
              "// See the License for the specific language governing permissions and\n",
              "// limitations under the License.\n",
              "\n",
              "/**\n",
              " * @fileoverview Helpers for google.colab Python module.\n",
              " */\n",
              "(function(scope) {\n",
              "function span(text, styleAttributes = {}) {\n",
              "  const element = document.createElement('span');\n",
              "  element.textContent = text;\n",
              "  for (const key of Object.keys(styleAttributes)) {\n",
              "    element.style[key] = styleAttributes[key];\n",
              "  }\n",
              "  return element;\n",
              "}\n",
              "\n",
              "// Max number of bytes which will be uploaded at a time.\n",
              "const MAX_PAYLOAD_SIZE = 100 * 1024;\n",
              "\n",
              "function _uploadFiles(inputId, outputId) {\n",
              "  const steps = uploadFilesStep(inputId, outputId);\n",
              "  const outputElement = document.getElementById(outputId);\n",
              "  // Cache steps on the outputElement to make it available for the next call\n",
              "  // to uploadFilesContinue from Python.\n",
              "  outputElement.steps = steps;\n",
              "\n",
              "  return _uploadFilesContinue(outputId);\n",
              "}\n",
              "\n",
              "// This is roughly an async generator (not supported in the browser yet),\n",
              "// where there are multiple asynchronous steps and the Python side is going\n",
              "// to poll for completion of each step.\n",
              "// This uses a Promise to block the python side on completion of each step,\n",
              "// then passes the result of the previous step as the input to the next step.\n",
              "function _uploadFilesContinue(outputId) {\n",
              "  const outputElement = document.getElementById(outputId);\n",
              "  const steps = outputElement.steps;\n",
              "\n",
              "  const next = steps.next(outputElement.lastPromiseValue);\n",
              "  return Promise.resolve(next.value.promise).then((value) => {\n",
              "    // Cache the last promise value to make it available to the next\n",
              "    // step of the generator.\n",
              "    outputElement.lastPromiseValue = value;\n",
              "    return next.value.response;\n",
              "  });\n",
              "}\n",
              "\n",
              "/**\n",
              " * Generator function which is called between each async step of the upload\n",
              " * process.\n",
              " * @param {string} inputId Element ID of the input file picker element.\n",
              " * @param {string} outputId Element ID of the output display.\n",
              " * @return {!Iterable<!Object>} Iterable of next steps.\n",
              " */\n",
              "function* uploadFilesStep(inputId, outputId) {\n",
              "  const inputElement = document.getElementById(inputId);\n",
              "  inputElement.disabled = false;\n",
              "\n",
              "  const outputElement = document.getElementById(outputId);\n",
              "  outputElement.innerHTML = '';\n",
              "\n",
              "  const pickedPromise = new Promise((resolve) => {\n",
              "    inputElement.addEventListener('change', (e) => {\n",
              "      resolve(e.target.files);\n",
              "    });\n",
              "  });\n",
              "\n",
              "  const cancel = document.createElement('button');\n",
              "  inputElement.parentElement.appendChild(cancel);\n",
              "  cancel.textContent = 'Cancel upload';\n",
              "  const cancelPromise = new Promise((resolve) => {\n",
              "    cancel.onclick = () => {\n",
              "      resolve(null);\n",
              "    };\n",
              "  });\n",
              "\n",
              "  // Wait for the user to pick the files.\n",
              "  const files = yield {\n",
              "    promise: Promise.race([pickedPromise, cancelPromise]),\n",
              "    response: {\n",
              "      action: 'starting',\n",
              "    }\n",
              "  };\n",
              "\n",
              "  cancel.remove();\n",
              "\n",
              "  // Disable the input element since further picks are not allowed.\n",
              "  inputElement.disabled = true;\n",
              "\n",
              "  if (!files) {\n",
              "    return {\n",
              "      response: {\n",
              "        action: 'complete',\n",
              "      }\n",
              "    };\n",
              "  }\n",
              "\n",
              "  for (const file of files) {\n",
              "    const li = document.createElement('li');\n",
              "    li.append(span(file.name, {fontWeight: 'bold'}));\n",
              "    li.append(span(\n",
              "        `(${file.type || 'n/a'}) - ${file.size} bytes, ` +\n",
              "        `last modified: ${\n",
              "            file.lastModifiedDate ? file.lastModifiedDate.toLocaleDateString() :\n",
              "                                    'n/a'} - `));\n",
              "    const percent = span('0% done');\n",
              "    li.appendChild(percent);\n",
              "\n",
              "    outputElement.appendChild(li);\n",
              "\n",
              "    const fileDataPromise = new Promise((resolve) => {\n",
              "      const reader = new FileReader();\n",
              "      reader.onload = (e) => {\n",
              "        resolve(e.target.result);\n",
              "      };\n",
              "      reader.readAsArrayBuffer(file);\n",
              "    });\n",
              "    // Wait for the data to be ready.\n",
              "    let fileData = yield {\n",
              "      promise: fileDataPromise,\n",
              "      response: {\n",
              "        action: 'continue',\n",
              "      }\n",
              "    };\n",
              "\n",
              "    // Use a chunked sending to avoid message size limits. See b/62115660.\n",
              "    let position = 0;\n",
              "    do {\n",
              "      const length = Math.min(fileData.byteLength - position, MAX_PAYLOAD_SIZE);\n",
              "      const chunk = new Uint8Array(fileData, position, length);\n",
              "      position += length;\n",
              "\n",
              "      const base64 = btoa(String.fromCharCode.apply(null, chunk));\n",
              "      yield {\n",
              "        response: {\n",
              "          action: 'append',\n",
              "          file: file.name,\n",
              "          data: base64,\n",
              "        },\n",
              "      };\n",
              "\n",
              "      let percentDone = fileData.byteLength === 0 ?\n",
              "          100 :\n",
              "          Math.round((position / fileData.byteLength) * 100);\n",
              "      percent.textContent = `${percentDone}% done`;\n",
              "\n",
              "    } while (position < fileData.byteLength);\n",
              "  }\n",
              "\n",
              "  // All done.\n",
              "  yield {\n",
              "    response: {\n",
              "      action: 'complete',\n",
              "    }\n",
              "  };\n",
              "}\n",
              "\n",
              "scope.google = scope.google || {};\n",
              "scope.google.colab = scope.google.colab || {};\n",
              "scope.google.colab._files = {\n",
              "  _uploadFiles,\n",
              "  _uploadFilesContinue,\n",
              "};\n",
              "})(self);\n",
              "</script> "
            ]
          },
          "metadata": {}
        },
        {
          "output_type": "stream",
          "name": "stdout",
          "text": [
            "Saving Sampling 1% plays dataset.csv to Sampling 1% plays dataset.csv\n"
          ]
        }
      ],
      "source": [
        "import pandas as pd\n",
        "\n",
        "from google.colab import files\n",
        "uploaded = files.upload()\n"
      ]
    },
    {
      "cell_type": "code",
      "execution_count": null,
      "metadata": {
        "id": "JKXIIg6QcXKq",
        "colab": {
          "base_uri": "https://localhost:8080/",
          "height": 1000
        },
        "outputId": "5d79d144-6c3a-48e6-b84c-0ac014443e42"
      },
      "outputs": [
        {
          "output_type": "stream",
          "name": "stderr",
          "text": [
            "/usr/local/lib/python3.8/dist-packages/IPython/core/interactiveshell.py:3326: FutureWarning: The error_bad_lines argument has been deprecated and will be removed in a future version.\n",
            "\n",
            "\n",
            "  exec(code_obj, self.user_global_ns, self.user_ns)\n",
            "b'Skipping line 23509: expected 41 fields, saw 43\\n'\n",
            "b'Skipping line 36946: expected 41 fields, saw 42\\nSkipping line 43788: expected 41 fields, saw 42\\nSkipping line 45437: expected 41 fields, saw 49\\n'\n",
            "b'Skipping line 52141: expected 41 fields, saw 42\\n'\n",
            "b'Skipping line 73470: expected 41 fields, saw 42\\nSkipping line 75103: expected 41 fields, saw 42\\n'\n",
            "b'Skipping line 87928: expected 41 fields, saw 42\\n'\n",
            "b'Skipping line 98453: expected 41 fields, saw 42\\nSkipping line 98771: expected 41 fields, saw 42\\nSkipping line 101047: expected 41 fields, saw 42\\nSkipping line 104676: expected 41 fields, saw 42\\n'\n",
            "/usr/local/lib/python3.8/dist-packages/IPython/core/interactiveshell.py:3326: DtypeWarning: Columns (20) have mixed types.Specify dtype option on import or set low_memory=False.\n",
            "  exec(code_obj, self.user_global_ns, self.user_ns)\n"
          ]
        },
        {
          "output_type": "execute_result",
          "data": {
            "text/plain": [
              "                                     hash_content_id  \\\n",
              "0  0096dafb1049ee942e8e7cbad5abf4a46dc92e3995caac...   \n",
              "1  01ddda2f8667719625bd0afa58537fd95a166c93233b8b...   \n",
              "2  01ddda2f8667719625bd0afa58537fd95a166c93233b8b...   \n",
              "3  01e34cb2658d0461f220bda493cb38427eef7de1e23e6e...   \n",
              "4  01e34cb2658d0461f220bda493cb38427eef7de1e23e6e...   \n",
              "\n",
              "                                        hash_play_id  \\\n",
              "0  0162f124f5bd61592d9bca6aaa3b1b6097a00b62ef33c9...   \n",
              "1  5f6c722782c919a9cb6254e94086462a6c34794dc741b6...   \n",
              "2  66c32aa6aa6a63f7d85d1bd1b8b6b295477c88794888d8...   \n",
              "3  38976454aec1c7ff4ca0a35df8821db29227443352e705...   \n",
              "4  4b4ee4aa4c37519250aa6efbd78e789b40d976474a1c37...   \n",
              "\n",
              "                                       hash_visit_id  \\\n",
              "0  27dfffe2bb74f8767caeb64ac4c92e9eaf4b11a28ef7e1...   \n",
              "1  90b2b454e70a2c13cf9e8ca987d7c4f914c7d819532c5d...   \n",
              "2  f79cab25855841a83e6aa01eccbf3d167491a868977b77...   \n",
              "3  f23800acfeede429803cb2a1380ca7652067fb35d079a8...   \n",
              "4  b058895b6fce58bcfbd72bfd7a3dfa4ae01d094e21c976...   \n",
              "\n",
              "                                     hash_watcher_id hash_film_id  \\\n",
              "0  e7c2138fd9d4047356066a01de46fc22ee9955a6fd6679...          NaN   \n",
              "1  d265ea2b8df584c51de3b2c6aebb6a0415384a18d1a148...          NaN   \n",
              "2  d2585a4b468b7cdbebc053ffc5b49cebd58d6e738bccdd...          NaN   \n",
              "3  bba3183af4f6c29d97dce6ee557561e3feef31d19ae9ab...          NaN   \n",
              "4  317ecdb779c3ba5bdc1818405aaafebcef35e9582c42e5...          NaN   \n",
              "\n",
              "                                       hash_event_id  is_login  \\\n",
              "0  c81bd64a212d3b5cb227499a6b4a3dc607748ae5133e48...     False   \n",
              "1  90a514e451e400c4c32ac42815920a66c500c1c2ea347d...     False   \n",
              "2  c278001db02102ece22d428b9235332856cba4754b63a0...     False   \n",
              "3  ed0731e9861306e6e26cf3cfb5a43da6b0e19af3ff3ff5...     False   \n",
              "4  3679f65950032d6bff1323df5b29292adad99918d616ae...     False   \n",
              "\n",
              "  playback_location     platform                 play_time  ... app_version  \\\n",
              "0             embed   web-mobile  2020-02-02T10:21:20.000Z  ...         NaN   \n",
              "1             embed   web-mobile  2020-02-02T12:17:33.000Z  ...         NaN   \n",
              "2             embed   web-mobile  2020-02-02T01:26:42.000Z  ...         NaN   \n",
              "3             embed   web-mobile  2020-02-02T13:45:05.000Z  ...         NaN   \n",
              "4             embed  web-desktop  2020-02-02T13:23:40.000Z  ...         NaN   \n",
              "\n",
              "  city  play_duration content_type  stream_type  \\\n",
              "0  NaN              0          vod          NaN   \n",
              "1  NaN             19          vod          NaN   \n",
              "2  NaN             24          vod          NaN   \n",
              "3  NaN              0          vod          NaN   \n",
              "4  NaN              4          vod          NaN   \n",
              "\n",
              "                                               title category_name film_title  \\\n",
              "0  Kiprah Eks Pemain Juventus yang Dikaitkan deng...        Sports        NaN   \n",
              "1  Pindah ke Inter Milan, Christian Eriksen Jadi ...        Sports        NaN   \n",
              "2  Pindah ke Inter Milan, Christian Eriksen Jadi ...        Sports        NaN   \n",
              "3     5 Kelebihan Mikel Arteta Menurut Pep Guardiola        Sports        NaN   \n",
              "4     5 Kelebihan Mikel Arteta Menurut Pep Guardiola        Sports        NaN   \n",
              "\n",
              "  season_name genre_name  \n",
              "0         NaN        NaN  \n",
              "1         NaN        NaN  \n",
              "2         NaN        NaN  \n",
              "3         NaN        NaN  \n",
              "4         NaN        NaN  \n",
              "\n",
              "[5 rows x 41 columns]"
            ],
            "text/html": [
              "\n",
              "  <div id=\"df-e5cff878-28e9-4b75-8ef9-abc6bd28a0ee\">\n",
              "    <div class=\"colab-df-container\">\n",
              "      <div>\n",
              "<style scoped>\n",
              "    .dataframe tbody tr th:only-of-type {\n",
              "        vertical-align: middle;\n",
              "    }\n",
              "\n",
              "    .dataframe tbody tr th {\n",
              "        vertical-align: top;\n",
              "    }\n",
              "\n",
              "    .dataframe thead th {\n",
              "        text-align: right;\n",
              "    }\n",
              "</style>\n",
              "<table border=\"1\" class=\"dataframe\">\n",
              "  <thead>\n",
              "    <tr style=\"text-align: right;\">\n",
              "      <th></th>\n",
              "      <th>hash_content_id</th>\n",
              "      <th>hash_play_id</th>\n",
              "      <th>hash_visit_id</th>\n",
              "      <th>hash_watcher_id</th>\n",
              "      <th>hash_film_id</th>\n",
              "      <th>hash_event_id</th>\n",
              "      <th>is_login</th>\n",
              "      <th>playback_location</th>\n",
              "      <th>platform</th>\n",
              "      <th>play_time</th>\n",
              "      <th>...</th>\n",
              "      <th>app_version</th>\n",
              "      <th>city</th>\n",
              "      <th>play_duration</th>\n",
              "      <th>content_type</th>\n",
              "      <th>stream_type</th>\n",
              "      <th>title</th>\n",
              "      <th>category_name</th>\n",
              "      <th>film_title</th>\n",
              "      <th>season_name</th>\n",
              "      <th>genre_name</th>\n",
              "    </tr>\n",
              "  </thead>\n",
              "  <tbody>\n",
              "    <tr>\n",
              "      <th>0</th>\n",
              "      <td>0096dafb1049ee942e8e7cbad5abf4a46dc92e3995caac...</td>\n",
              "      <td>0162f124f5bd61592d9bca6aaa3b1b6097a00b62ef33c9...</td>\n",
              "      <td>27dfffe2bb74f8767caeb64ac4c92e9eaf4b11a28ef7e1...</td>\n",
              "      <td>e7c2138fd9d4047356066a01de46fc22ee9955a6fd6679...</td>\n",
              "      <td>NaN</td>\n",
              "      <td>c81bd64a212d3b5cb227499a6b4a3dc607748ae5133e48...</td>\n",
              "      <td>False</td>\n",
              "      <td>embed</td>\n",
              "      <td>web-mobile</td>\n",
              "      <td>2020-02-02T10:21:20.000Z</td>\n",
              "      <td>...</td>\n",
              "      <td>NaN</td>\n",
              "      <td>NaN</td>\n",
              "      <td>0</td>\n",
              "      <td>vod</td>\n",
              "      <td>NaN</td>\n",
              "      <td>Kiprah Eks Pemain Juventus yang Dikaitkan deng...</td>\n",
              "      <td>Sports</td>\n",
              "      <td>NaN</td>\n",
              "      <td>NaN</td>\n",
              "      <td>NaN</td>\n",
              "    </tr>\n",
              "    <tr>\n",
              "      <th>1</th>\n",
              "      <td>01ddda2f8667719625bd0afa58537fd95a166c93233b8b...</td>\n",
              "      <td>5f6c722782c919a9cb6254e94086462a6c34794dc741b6...</td>\n",
              "      <td>90b2b454e70a2c13cf9e8ca987d7c4f914c7d819532c5d...</td>\n",
              "      <td>d265ea2b8df584c51de3b2c6aebb6a0415384a18d1a148...</td>\n",
              "      <td>NaN</td>\n",
              "      <td>90a514e451e400c4c32ac42815920a66c500c1c2ea347d...</td>\n",
              "      <td>False</td>\n",
              "      <td>embed</td>\n",
              "      <td>web-mobile</td>\n",
              "      <td>2020-02-02T12:17:33.000Z</td>\n",
              "      <td>...</td>\n",
              "      <td>NaN</td>\n",
              "      <td>NaN</td>\n",
              "      <td>19</td>\n",
              "      <td>vod</td>\n",
              "      <td>NaN</td>\n",
              "      <td>Pindah ke Inter Milan, Christian Eriksen Jadi ...</td>\n",
              "      <td>Sports</td>\n",
              "      <td>NaN</td>\n",
              "      <td>NaN</td>\n",
              "      <td>NaN</td>\n",
              "    </tr>\n",
              "    <tr>\n",
              "      <th>2</th>\n",
              "      <td>01ddda2f8667719625bd0afa58537fd95a166c93233b8b...</td>\n",
              "      <td>66c32aa6aa6a63f7d85d1bd1b8b6b295477c88794888d8...</td>\n",
              "      <td>f79cab25855841a83e6aa01eccbf3d167491a868977b77...</td>\n",
              "      <td>d2585a4b468b7cdbebc053ffc5b49cebd58d6e738bccdd...</td>\n",
              "      <td>NaN</td>\n",
              "      <td>c278001db02102ece22d428b9235332856cba4754b63a0...</td>\n",
              "      <td>False</td>\n",
              "      <td>embed</td>\n",
              "      <td>web-mobile</td>\n",
              "      <td>2020-02-02T01:26:42.000Z</td>\n",
              "      <td>...</td>\n",
              "      <td>NaN</td>\n",
              "      <td>NaN</td>\n",
              "      <td>24</td>\n",
              "      <td>vod</td>\n",
              "      <td>NaN</td>\n",
              "      <td>Pindah ke Inter Milan, Christian Eriksen Jadi ...</td>\n",
              "      <td>Sports</td>\n",
              "      <td>NaN</td>\n",
              "      <td>NaN</td>\n",
              "      <td>NaN</td>\n",
              "    </tr>\n",
              "    <tr>\n",
              "      <th>3</th>\n",
              "      <td>01e34cb2658d0461f220bda493cb38427eef7de1e23e6e...</td>\n",
              "      <td>38976454aec1c7ff4ca0a35df8821db29227443352e705...</td>\n",
              "      <td>f23800acfeede429803cb2a1380ca7652067fb35d079a8...</td>\n",
              "      <td>bba3183af4f6c29d97dce6ee557561e3feef31d19ae9ab...</td>\n",
              "      <td>NaN</td>\n",
              "      <td>ed0731e9861306e6e26cf3cfb5a43da6b0e19af3ff3ff5...</td>\n",
              "      <td>False</td>\n",
              "      <td>embed</td>\n",
              "      <td>web-mobile</td>\n",
              "      <td>2020-02-02T13:45:05.000Z</td>\n",
              "      <td>...</td>\n",
              "      <td>NaN</td>\n",
              "      <td>NaN</td>\n",
              "      <td>0</td>\n",
              "      <td>vod</td>\n",
              "      <td>NaN</td>\n",
              "      <td>5 Kelebihan Mikel Arteta Menurut Pep Guardiola</td>\n",
              "      <td>Sports</td>\n",
              "      <td>NaN</td>\n",
              "      <td>NaN</td>\n",
              "      <td>NaN</td>\n",
              "    </tr>\n",
              "    <tr>\n",
              "      <th>4</th>\n",
              "      <td>01e34cb2658d0461f220bda493cb38427eef7de1e23e6e...</td>\n",
              "      <td>4b4ee4aa4c37519250aa6efbd78e789b40d976474a1c37...</td>\n",
              "      <td>b058895b6fce58bcfbd72bfd7a3dfa4ae01d094e21c976...</td>\n",
              "      <td>317ecdb779c3ba5bdc1818405aaafebcef35e9582c42e5...</td>\n",
              "      <td>NaN</td>\n",
              "      <td>3679f65950032d6bff1323df5b29292adad99918d616ae...</td>\n",
              "      <td>False</td>\n",
              "      <td>embed</td>\n",
              "      <td>web-desktop</td>\n",
              "      <td>2020-02-02T13:23:40.000Z</td>\n",
              "      <td>...</td>\n",
              "      <td>NaN</td>\n",
              "      <td>NaN</td>\n",
              "      <td>4</td>\n",
              "      <td>vod</td>\n",
              "      <td>NaN</td>\n",
              "      <td>5 Kelebihan Mikel Arteta Menurut Pep Guardiola</td>\n",
              "      <td>Sports</td>\n",
              "      <td>NaN</td>\n",
              "      <td>NaN</td>\n",
              "      <td>NaN</td>\n",
              "    </tr>\n",
              "  </tbody>\n",
              "</table>\n",
              "<p>5 rows × 41 columns</p>\n",
              "</div>\n",
              "      <button class=\"colab-df-convert\" onclick=\"convertToInteractive('df-e5cff878-28e9-4b75-8ef9-abc6bd28a0ee')\"\n",
              "              title=\"Convert this dataframe to an interactive table.\"\n",
              "              style=\"display:none;\">\n",
              "        \n",
              "  <svg xmlns=\"http://www.w3.org/2000/svg\" height=\"24px\"viewBox=\"0 0 24 24\"\n",
              "       width=\"24px\">\n",
              "    <path d=\"M0 0h24v24H0V0z\" fill=\"none\"/>\n",
              "    <path d=\"M18.56 5.44l.94 2.06.94-2.06 2.06-.94-2.06-.94-.94-2.06-.94 2.06-2.06.94zm-11 1L8.5 8.5l.94-2.06 2.06-.94-2.06-.94L8.5 2.5l-.94 2.06-2.06.94zm10 10l.94 2.06.94-2.06 2.06-.94-2.06-.94-.94-2.06-.94 2.06-2.06.94z\"/><path d=\"M17.41 7.96l-1.37-1.37c-.4-.4-.92-.59-1.43-.59-.52 0-1.04.2-1.43.59L10.3 9.45l-7.72 7.72c-.78.78-.78 2.05 0 2.83L4 21.41c.39.39.9.59 1.41.59.51 0 1.02-.2 1.41-.59l7.78-7.78 2.81-2.81c.8-.78.8-2.07 0-2.86zM5.41 20L4 18.59l7.72-7.72 1.47 1.35L5.41 20z\"/>\n",
              "  </svg>\n",
              "      </button>\n",
              "      \n",
              "  <style>\n",
              "    .colab-df-container {\n",
              "      display:flex;\n",
              "      flex-wrap:wrap;\n",
              "      gap: 12px;\n",
              "    }\n",
              "\n",
              "    .colab-df-convert {\n",
              "      background-color: #E8F0FE;\n",
              "      border: none;\n",
              "      border-radius: 50%;\n",
              "      cursor: pointer;\n",
              "      display: none;\n",
              "      fill: #1967D2;\n",
              "      height: 32px;\n",
              "      padding: 0 0 0 0;\n",
              "      width: 32px;\n",
              "    }\n",
              "\n",
              "    .colab-df-convert:hover {\n",
              "      background-color: #E2EBFA;\n",
              "      box-shadow: 0px 1px 2px rgba(60, 64, 67, 0.3), 0px 1px 3px 1px rgba(60, 64, 67, 0.15);\n",
              "      fill: #174EA6;\n",
              "    }\n",
              "\n",
              "    [theme=dark] .colab-df-convert {\n",
              "      background-color: #3B4455;\n",
              "      fill: #D2E3FC;\n",
              "    }\n",
              "\n",
              "    [theme=dark] .colab-df-convert:hover {\n",
              "      background-color: #434B5C;\n",
              "      box-shadow: 0px 1px 3px 1px rgba(0, 0, 0, 0.15);\n",
              "      filter: drop-shadow(0px 1px 2px rgba(0, 0, 0, 0.3));\n",
              "      fill: #FFFFFF;\n",
              "    }\n",
              "  </style>\n",
              "\n",
              "      <script>\n",
              "        const buttonEl =\n",
              "          document.querySelector('#df-e5cff878-28e9-4b75-8ef9-abc6bd28a0ee button.colab-df-convert');\n",
              "        buttonEl.style.display =\n",
              "          google.colab.kernel.accessAllowed ? 'block' : 'none';\n",
              "\n",
              "        async function convertToInteractive(key) {\n",
              "          const element = document.querySelector('#df-e5cff878-28e9-4b75-8ef9-abc6bd28a0ee');\n",
              "          const dataTable =\n",
              "            await google.colab.kernel.invokeFunction('convertToInteractive',\n",
              "                                                     [key], {});\n",
              "          if (!dataTable) return;\n",
              "\n",
              "          const docLinkHtml = 'Like what you see? Visit the ' +\n",
              "            '<a target=\"_blank\" href=https://colab.research.google.com/notebooks/data_table.ipynb>data table notebook</a>'\n",
              "            + ' to learn more about interactive tables.';\n",
              "          element.innerHTML = '';\n",
              "          dataTable['output_type'] = 'display_data';\n",
              "          await google.colab.output.renderOutput(dataTable, element);\n",
              "          const docLink = document.createElement('div');\n",
              "          docLink.innerHTML = docLinkHtml;\n",
              "          element.appendChild(docLink);\n",
              "        }\n",
              "      </script>\n",
              "    </div>\n",
              "  </div>\n",
              "  "
            ]
          },
          "metadata": {},
          "execution_count": 4
        }
      ],
      "source": [
        "df = pd.read_csv('Sampling 1% plays dataset.csv', error_bad_lines=False)\n",
        "df.head()"
      ]
    },
    {
      "cell_type": "code",
      "execution_count": null,
      "metadata": {
        "colab": {
          "base_uri": "https://localhost:8080/"
        },
        "id": "JPrihYM_fjad",
        "outputId": "7caca827-7fba-4b63-f080-3d1d37725101"
      },
      "outputs": [
        {
          "output_type": "execute_result",
          "data": {
            "text/plain": [
              "Index(['hash_content_id', 'hash_play_id', 'hash_visit_id', 'hash_watcher_id',\n",
              "       'hash_film_id', 'hash_event_id', 'is_login', 'playback_location',\n",
              "       'platform', 'play_time', 'end_time', 'referrer', 'average_bitrate',\n",
              "       'bitrate_range', 'total_bytes', 'buffer_duration', 'referrer_group',\n",
              "       'completed', 'utm_source', 'utm_medium', 'utm_campaign', 'player_name',\n",
              "       'has_ad', 'flash_version', 'os_name', 'os_version', 'browser_name',\n",
              "       'browser_version', 'app_name', 'autoplay', 'is_premium', 'app_version',\n",
              "       'city', 'play_duration', 'content_type', 'stream_type', 'title',\n",
              "       'category_name', 'film_title', 'season_name', 'genre_name'],\n",
              "      dtype='object')"
            ]
          },
          "metadata": {},
          "execution_count": 5
        }
      ],
      "source": [
        "df.columns"
      ]
    },
    {
      "cell_type": "code",
      "source": [
        "num_rows, num_cols = df.shape\n",
        "print(f'Number of rows: {num_rows}\\nNumber of columns: {num_cols}')"
      ],
      "metadata": {
        "colab": {
          "base_uri": "https://localhost:8080/"
        },
        "id": "a_xD-zZZV5GH",
        "outputId": "7246e726-a956-4c6e-e887-83e6fd6e5207"
      },
      "execution_count": null,
      "outputs": [
        {
          "output_type": "stream",
          "name": "stdout",
          "text": [
            "Number of rows: 106811\n",
            "Number of columns: 41\n"
          ]
        }
      ]
    },
    {
      "cell_type": "code",
      "source": [
        "cols_name = list(df.columns.values)\n",
        "cols_dtype = pd.Series(df[cols_name].dtypes)\n",
        "cols_dtype"
      ],
      "metadata": {
        "colab": {
          "base_uri": "https://localhost:8080/"
        },
        "id": "uzXcIE-KV-v5",
        "outputId": "02356118-ee5d-43c6-c740-6dddcae79191"
      },
      "execution_count": null,
      "outputs": [
        {
          "output_type": "execute_result",
          "data": {
            "text/plain": [
              "hash_content_id       object\n",
              "hash_play_id          object\n",
              "hash_visit_id         object\n",
              "hash_watcher_id       object\n",
              "hash_film_id          object\n",
              "hash_event_id         object\n",
              "is_login                bool\n",
              "playback_location     object\n",
              "platform              object\n",
              "play_time             object\n",
              "end_time              object\n",
              "referrer              object\n",
              "average_bitrate      float64\n",
              "bitrate_range         object\n",
              "total_bytes            int64\n",
              "buffer_duration      float64\n",
              "referrer_group        object\n",
              "completed             object\n",
              "utm_source            object\n",
              "utm_medium            object\n",
              "utm_campaign          object\n",
              "player_name           object\n",
              "has_ad                  bool\n",
              "flash_version         object\n",
              "os_name               object\n",
              "os_version            object\n",
              "browser_name          object\n",
              "browser_version       object\n",
              "app_name              object\n",
              "autoplay              object\n",
              "is_premium              bool\n",
              "app_version           object\n",
              "city                 float64\n",
              "play_duration          int64\n",
              "content_type          object\n",
              "stream_type           object\n",
              "title                 object\n",
              "category_name         object\n",
              "film_title            object\n",
              "season_name           object\n",
              "genre_name            object\n",
              "dtype: object"
            ]
          },
          "metadata": {},
          "execution_count": 7
        }
      ]
    },
    {
      "cell_type": "code",
      "source": [
        "have_duplicate_rows = df.duplicated().any()\n",
        "have_duplicate_rows"
      ],
      "metadata": {
        "colab": {
          "base_uri": "https://localhost:8080/"
        },
        "id": "I-rtbjm8WPgx",
        "outputId": "98aa7cd7-31d4-4a78-ebbe-af82717c0598"
      },
      "execution_count": null,
      "outputs": [
        {
          "output_type": "execute_result",
          "data": {
            "text/plain": [
              "False"
            ]
          },
          "metadata": {},
          "execution_count": 8
        }
      ]
    },
    {
      "cell_type": "code",
      "execution_count": null,
      "metadata": {
        "id": "WySPAM5YJjqU"
      },
      "outputs": [],
      "source": [
        "import numpy as np\n",
        "import matplotlib.pyplot as plt\n",
        "import seaborn as sns "
      ]
    },
    {
      "cell_type": "code",
      "source": [
        "plt.figure(figsize=(9,6))\n",
        "ax = sns.countplot(df['platform'],linewidth=1,palette=\"Set3\",edgecolor='black',\n",
        "  order=df['platform'].value_counts(ascending=False).index);\n",
        "\n",
        "plt.xlabel('Platforms', size=10, weight='bold')\n",
        "plt.ylabel('Count', size=10, weight='bold')\n",
        "for label in ax.containers:\n",
        "    ax.bar_label(label, fontsize=8)\n",
        "\n",
        "plt.show()"
      ],
      "metadata": {
        "colab": {
          "base_uri": "https://localhost:8080/",
          "height": 445
        },
        "id": "uY1-QdfFs6cX",
        "outputId": "6edadce5-2e11-4621-ddd3-832b63139819"
      },
      "execution_count": null,
      "outputs": [
        {
          "output_type": "stream",
          "name": "stderr",
          "text": [
            "/usr/local/lib/python3.8/dist-packages/seaborn/_decorators.py:36: FutureWarning: Pass the following variable as a keyword arg: x. From version 0.12, the only valid positional argument will be `data`, and passing other arguments without an explicit keyword will result in an error or misinterpretation.\n",
            "  warnings.warn(\n"
          ]
        },
        {
          "output_type": "display_data",
          "data": {
            "text/plain": [
              "<Figure size 648x432 with 1 Axes>"
            ],
            "image/png": "[encoded data removed]"
          },
          "metadata": {
            "needs_background": "light"
          }
        }
      ]
    },
    {
      "cell_type": "code",
      "source": [
        "plt.figure(figsize=(18,5))\n",
        "sns.countplot(x=df['category_name'],hue=df['platform'],palette='viridis',linewidth=1,edgecolor='black')\n",
        "plt.xlabel('Category Name', size=10, weight='bold')\n",
        "plt.ylabel('Platforms', size=10, weight='bold')\n",
        "for label in ax.containers:\n",
        "    ax.bar_label(label, fontsize=8)\n",
        "\n",
        "plt.title('Platforms Used Based on Category Name')\n",
        "plt.show()"
      ],
      "metadata": {
        "colab": {
          "base_uri": "https://localhost:8080/",
          "height": 214
        },
        "id": "hb2kXxmOOVGM",
        "outputId": "e88c9f15-63e8-4fdb-8527-29338e10c5e3"
      },
      "execution_count": null,
      "outputs": [
        {
          "output_type": "display_data",
          "data": {
            "text/plain": [
              "<Figure size 1296x360 with 1 Axes>"
            ],
            "image/png": "[encoded data removed]"
          },
          "metadata": {
            "needs_background": "light"
          }
        }
      ]
    },
    {
      "cell_type": "code",
      "source": [
        "plt.figure(figsize=(17,5))\n",
        "plt.subplot(1, 2, 1)\n",
        "sns.countplot(x=df['stream_type'],hue=df['platform'],palette='seismic',linewidth=1,edgecolor='black')\n",
        "plt.xlabel('Stream Type', size=10, weight='bold')\n",
        "plt.ylabel('Platforms', size=10, weight='bold')\n",
        "plt.title('Platforms Used Based on Stream Type')\n",
        "plt.subplot(1, 2, 2)\n",
        "sns.countplot(x=df['content_type'],hue=df['platform'],palette='summer',linewidth=1,edgecolor='black')\n",
        "plt.xlabel('Content Type', size=10, weight='bold')\n",
        "plt.ylabel('Platforms', size=10, weight='bold')\n",
        "plt.title('Platforms Used Based on Content Type')\n",
        "plt.show()"
      ],
      "metadata": {
        "colab": {
          "base_uri": "https://localhost:8080/",
          "height": 225
        },
        "id": "xk_psmCcTdtV",
        "outputId": "a1b5a927-fde1-42a3-acbc-c0cfe9852772"
      },
      "execution_count": null,
      "outputs": [
        {
          "output_type": "display_data",
          "data": {
            "text/plain": [
              "<Figure size 1224x360 with 2 Axes>"
            ],
            "image/png": "[encoded data removed]"
          },
          "metadata": {
            "needs_background": "light"
          }
        }
      ]
    }
  ],
  "metadata": {
    "colab": {
      "provenance": []
    },
    "kernelspec": {
      "display_name": "Python 3",
      "name": "python3"
    },
    "language_info": {
      "name": "python"
    }
  },
  "nbformat": 4,
  "nbformat_minor": 0
}